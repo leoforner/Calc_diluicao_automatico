{
 "cells": [
  {
   "cell_type": "code",
   "execution_count": 1,
   "metadata": {},
   "outputs": [],
   "source": [
    "'''\n",
    "faça um codigo que pegue cada imagem de uma pasta, em uma imagem por vez faça testes de threshold com valores diferentes e exiba na tela cada um dos testes para que o usuário escolha o melhor, coloque o melhor teste selecionado em uma pasta output e continuie para as proximas imagens\n",
    "'''\n",
    "\n",
    "import cv2\n",
    "import os\n",
    "\n",
    "# Function to perform thresholding and display the results\n",
    "def perform_thresholding(image_path):\n",
    "    image = cv2.imread(image_path, 0)  # Read the image in grayscale\n",
    "    cv2.namedWindow(\"Original Image\", cv2.WINDOW_FULLSCREEN)  # Create a full screen window\n",
    "    cv2.imshow(\"Original Image\", image)\n",
    "\n",
    "    # Perform thresholding with different threshold values\n",
    "    for threshold_value in range(0, 256, 10):\n",
    "        _, thresholded_image = cv2.threshold(image, threshold_value, 255, cv2.THRESH_BINARY)\n",
    "        cv2.namedWindow(f\"Threshold: {threshold_value}\", cv2.WINDOW_FULLSCREEN)  # Create a full screen window\n",
    "        cv2.imshow(f\"Threshold: {threshold_value}\", thresholded_image)\n",
    "        cv2.waitKey(0)\n",
    "\n",
    "    cv2.destroyAllWindows()\n",
    "        cv2.imwrite(output_path, thresholded_image)\n",
    "\n"
   ]
  }
 ],
 "metadata": {
  "kernelspec": {
   "display_name": "Calc_diluicao_automatico-id_bt7jD",
   "language": "python",
   "name": "python3"
  },
  "language_info": {
   "codemirror_mode": {
    "name": "ipython",
    "version": 3
   },
   "file_extension": ".py",
   "mimetype": "text/x-python",
   "name": "python",
   "nbconvert_exporter": "python",
   "pygments_lexer": "ipython3",
   "version": "3.10.12"
  }
 },
 "nbformat": 4,
 "nbformat_minor": 2
}
